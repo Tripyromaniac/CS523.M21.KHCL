{
  "nbformat": 4,
  "nbformat_minor": 0,
  "metadata": {
    "colab": {
      "name": "Prefix_Tree_Python.ipynb",
      "provenance": [],
      "collapsed_sections": [],
      "authorship_tag": "ABX9TyN/CIwyBZfv1gYv4ZxypYCA",
      "include_colab_link": true
    },
    "kernelspec": {
      "name": "python3",
      "display_name": "Python 3"
    },
    "language_info": {
      "name": "python"
    }
  },
  "cells": [
    {
      "cell_type": "markdown",
      "metadata": {
        "id": "view-in-github",
        "colab_type": "text"
      },
      "source": [
        "<a href=\"https://colab.research.google.com/github/Tripyromaniac/CS523.M21.KHCL/blob/Prefix-Tree---%C4%90%E1%BB%93-%C3%A1n-nh%C3%B3m/Prefix_Tree_Python.ipynb\" target=\"_parent\"><img src=\"https://colab.research.google.com/assets/colab-badge.svg\" alt=\"Open In Colab\"/></a>"
      ]
    },
    {
      "cell_type": "markdown",
      "source": [
        "#Old school Template"
      ],
      "metadata": {
        "id": "12p1vzRFEgy0"
      }
    },
    {
      "cell_type": "code",
      "source": [
        "class Trie:\n",
        " \n",
        "  def __init__(self):\n",
        "    self.child = {}\n",
        "    self.isEnd = bool()\n",
        "\n",
        "  def insert(self, word):\n",
        "    current = self.child\n",
        "    for chr in word:\n",
        "      if chr not in current:\n",
        "        current[chr] = {}\n",
        "      current = current[chr]\n",
        "    current[self.isEnd] = True\n",
        "\n",
        "  def search(self, word):\n",
        "    current = self.child\n",
        "    for chr in word:\n",
        "      if chr not in current:\n",
        "        return False\n",
        "      current = current[chr]\n",
        "    if current[self.isEnd] == True:\n",
        "      return True\n",
        "    else:\n",
        "      return False\n",
        "\n",
        "  def delete(self, word):\n",
        "    current = self.child\n",
        "    for chr in word:\n",
        "      if chr not in current:\n",
        "        return False\n",
        "      current = current[chr]\n",
        "    if current[self.isEnd] == True:\n",
        "      current[self.isEnd] = False \n",
        "    else:\n",
        "      current[self.isEnd] = True\n",
        "      del current[chr]\n",
        "    return True\n",
        "        "
      ],
      "metadata": {
        "id": "fzW3eAF0EbVD"
      },
      "execution_count": 13,
      "outputs": []
    },
    {
      "cell_type": "code",
      "source": [
        "Prefix = Trie()\n",
        "Prefix.insert('Card')\n",
        "Prefix.insert('Can')\n",
        "Prefix.insert('Cans')\n",
        "Prefix.delete('Can')\n",
        "print(Prefix.search('Can'))\n",
        "print(Prefix.search('Cans'))\n",
        "print(Prefix.search('Card'))"
      ],
      "metadata": {
        "colab": {
          "base_uri": "https://localhost:8080/"
        },
        "id": "mg2ujBhlFMHV",
        "outputId": "349ad9e7-df33-4c59-ea45-b89eff4ed686"
      },
      "execution_count": 15,
      "outputs": [
        {
          "output_type": "stream",
          "name": "stdout",
          "text": [
            "False\n",
            "True\n",
            "True\n"
          ]
        }
      ]
    }
  ]
}